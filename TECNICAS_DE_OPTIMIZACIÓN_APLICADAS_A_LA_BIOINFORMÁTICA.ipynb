{
  "nbformat": 4,
  "nbformat_minor": 0,
  "metadata": {
    "colab": {
      "provenance": [],
      "include_colab_link": true
    },
    "kernelspec": {
      "name": "python3",
      "display_name": "Python 3"
    },
    "language_info": {
      "name": "python"
    }
  },
  "cells": [
    {
      "cell_type": "markdown",
      "metadata": {
        "id": "view-in-github",
        "colab_type": "text"
      },
      "source": [
        "<a href=\"https://colab.research.google.com/github/Verinikita/Verinikita/blob/main/TECNICAS_DE_OPTIMIZACI%C3%93N_APLICADAS_A_LA_BIOINFORM%C3%81TICA.ipynb\" target=\"_parent\"><img src=\"https://colab.research.google.com/assets/colab-badge.svg\" alt=\"Open In Colab\"/></a>"
      ]
    },
    {
      "cell_type": "markdown",
      "source": [
        "# **TECNICAS DE OPTIMIZACIÓN APLICADAS A LA BIOINFORMÁTICA <BR>**\n",
        "*“Diseño e implementación de algoritmo simulated annealing (SA) en Python, para resolver el problema de distribución en el ensamblado de fragmentos (FAP) por permutación”.*\n",
        "\n"
      ],
      "metadata": {
        "id": "myYBjdoTavnC"
      }
    },
    {
      "cell_type": "markdown",
      "source": [
        "## UNIVERSIDAD NACIONAL DEL NORESTE DE BUENOS AIRES\n",
        "\n",
        ">>>>![logo](data:image/png;base64,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)\n",
        "\n",
        "MAESTRÍA EN BIOINFORMÁTICA Y BIOLOGÍA DE SISTEMAS\n",
        "\n",
        "TRABAJO FINAL PARA LA CÁTEDRA “TÉCNICAS DE OPTIMIZACIÓN APLICADAS A LA BIOINFORMÁTICA”\n",
        "\n",
        "AUTORES:\n",
        "BALUK, María Inés\n",
        "BARONETTO, Verónica\n",
        "KRANEVITER, Anabel\n",
        "RECALDE, José\n",
        "\n",
        "\n",
        "\n",
        "DOCENTE:\n",
        "MINETTI, Gabriela\n",
        "\n",
        "\n",
        "2023\n",
        "\n",
        "\n"
      ],
      "metadata": {
        "id": "p5CwQF3GiRhZ"
      }
    },
    {
      "cell_type": "code",
      "source": [
        "#Cargo las Librerías necesarias:\n",
        "try:\n",
        "    import google.colab\n",
        "    # Running on Google Colab, so install Biopython first\n",
        "    !pip install biopython\n",
        "except ImportError:\n",
        "    pass\n",
        "\n",
        "import Bio\n",
        "import random\n",
        "from Bio import SeqIO\n"
      ],
      "metadata": {
        "colab": {
          "base_uri": "https://localhost:8080/"
        },
        "id": "SA5759iPF_Gh",
        "outputId": "21967410-af9f-4345-f528-418fb7f4f969"
      },
      "execution_count": null,
      "outputs": [
        {
          "output_type": "stream",
          "name": "stdout",
          "text": [
            "Looking in indexes: https://pypi.org/simple, https://us-python.pkg.dev/colab-wheels/public/simple/\n",
            "Requirement already satisfied: biopython in /usr/local/lib/python3.9/dist-packages (1.81)\n",
            "Requirement already satisfied: numpy in /usr/local/lib/python3.9/dist-packages (from biopython) (1.22.4)\n"
          ]
        }
      ]
    },
    {
      "cell_type": "code",
      "source": [
        "# Función de costo\n",
        "def costo(ensamblado):\n",
        "    puntaje = 0\n",
        "    for i in range(len(ensamblado[0])):\n",
        "        # Obtener el aminoácido en la posición i de cada secuencia\n",
        "        aminoacidos = [secuencia[i] for secuencia in ensamblado]\n",
        "        # Si al menos una secuencia tiene un gap, el puntaje es -1\n",
        "        if \"-\" in aminoacidos:\n",
        "            puntaje -= 1\n",
        "        # Si todas las secuencias tienen el mismo aminoácido match, el puntaje es +2\n",
        "        elif len(set(aminoacidos)) == 1:\n",
        "            puntaje += 2\n",
        "        # Si hay al menos dos aminoácidos diferentes, el puntaje es 0 \n",
        "        #Acá no supimos como hacer para representar los mismatch\n",
        "        else:\n",
        "            puntaje += 0\n",
        "    return puntaje\n",
        "\n",
        "# Función de ensamblado aleatorio\n",
        "def ensamblado_aleatorio(secuencias):\n",
        "    return [\"\".join(random.choice([\"-\", aa]) for aa in secuencia) for secuencia in secuencias]\n",
        "\n",
        "# Recocido simulado\n",
        "def recocido_simulado(secuencias, temp_inicial=10, temp_final=0.1, factor_enfriamiento=0.95, max_iter=1000):\n",
        "    # Generar ensamblado inicial aleatorio\n",
        "    ensamblado_actual = ensamblado_aleatorio(secuencias)\n",
        "    costo_actual = costo(ensamblado_actual)\n",
        "    mejor_ensamblado = ensamblado_actual\n",
        "    mejor_costo = costo_actual\n",
        "    \n",
        "    # Recocido simulado\n",
        "    temp = temp_inicial\n",
        "    for i in range(max_iter):\n",
        "        # Modificar ensamblado actual\n",
        "        nueva_ensamblado = []\n",
        "        for secuencia in ensamblado_actual:\n",
        "            posicion = random.randint(0, len(secuencia) - 1)\n",
        "            nuevo_aa = random.choice([\"-\", secuencia[posicion]])\n",
        "            nueva_secuencia = secuencia[:posicion] + nuevo_aa + secuencia[posicion+1:]\n",
        "            nueva_ensamblado.append(nueva_secuencia)\n",
        "        nuevo_costo = costo(nueva_ensamblado)\n",
        "        # Aceptar solución si es mejor\n",
        "        if nuevo_costo > costo_actual:\n",
        "            ensamblado_actual = nueva_ensamblado\n",
        "            costo_actual = nuevo_costo\n",
        "            if costo_actual > mejor_costo:\n",
        "                mejor_ensamblado = ensamblado_actual\n",
        "                mejor_costo = costo_actual\n",
        "        # Aceptar solución con cierta probabilidad si es peor\n",
        "        else:\n",
        "            delta_costo = nuevo_costo - costo_actual\n",
        "            prob_aceptacion = min(1, pow(2.71, delta_costo / temp))\n",
        "            if random.random() < prob_aceptacion:\n",
        "                ensamblado_actual = nueva_ensamblado\n",
        "                costo_actual = nuevo_costo\n",
        "        # Enfriamiento\n",
        "        temp *= factor_enfriamiento\n",
        "        if temp < temp_final:\n",
        "            break\n",
        "    return mejor_ensamblado, mejor_costo\n",
        "\n",
        "# Cargar secuencias desde archivo FASTA\n",
        "# Leer las secuencias del archivo FASTA\n",
        "archivo_fasta = input(\"Ingrese el nombre del archivo FASTA: \")\n",
        "secuencias = []\n",
        "for secuencia in SeqIO.parse(archivo_fasta, \"fasta\"):\n",
        "    secuencias.append(str(secuencia.seq))\n",
        "\n",
        "\n",
        "\n",
        "#secuencias = list(SeqIO.parse(\"secuencias.fasta\", \"fasta\"))\n",
        "# Ejecutar recocido simulado\n",
        "ensamblado_actual = ensamblado_aleatorio(secuencias)\n",
        "costo_actual = costo(ensamblado_actual)\n",
        "mejor_ensamblado, mejor_costo = recocido_simulado(secuencias)\n",
        "print(\"El primer ensamblaje fue:\", ensamblado_actual)\n",
        "print(\"Con el primer ensamblaje aleatoreo se obtuvo un costo de:\", costo_actual)\n",
        "print(\"Mejor ensamblado:\", mejor_ensamblado)\n",
        "print(\"Mejor costo:\", mejor_costo)"
      ],
      "metadata": {
        "id": "Kl04Z1mHPGHy",
        "colab": {
          "base_uri": "https://localhost:8080/"
        },
        "outputId": "7f713d7c-9f4c-4ac5-cd4e-e52efe4122a1"
      },
      "execution_count": 36,
      "outputs": [
        {
          "output_type": "stream",
          "name": "stdout",
          "text": [
            "Ingrese el nombre del archivo FASTA: /content/proteins.FASTA\n",
            "El primer ensamblaje fue: ['MTEY-LVV-GAG-V-K--L---LI--H-VDEYDPTI---YRKQ--I-GE-CL-D--DT--Q-E-S-MR-Q---T-EG---VF----T--FE--H--R-Q-KR--D--DVP-V--GN---LP-R-V--K---DLA-SYG-P-I-TS--TR-GV-DAF---V-E------K--K--K-K-K-S----VI-', 'M---K--VVG---VGK-ALTI---QNH----YDP-I-DSYRK-V-ID-----LD--D-AG-E-YSA-R--YM---E-F-C---I-N---FED--H-R-QI--V--S-D--MVL-------PS--V-T-QAQDLAR-YG-----T-A-T-QG--DAFYTL--EI--HK--M-KDGKKK--KS---C-IM', '-T-Y-LVV--A--V-KS--TIQ--Q-HF------TI--SY---V---GET-L--ILDT-GQ-E-S-MR-QY-RTGEGF-C----NN-KSF--IH-Y-EQ--RV----DVPMVL-G-----P--T-D-K-------SYG---I--S------V-DAF-TLVRE--K----MSKDGK---K-S-TKCV--', '----QSD----P-LSQETFS-LW--LPE-N-L---PSQ-M-D---S-D--EQW-T-DP---EAP-M-EAAP--A-AP-A------A-APS---SS-V--Q--Y---Y--R---LH--TA-S--CT-SP-L-KMF--LAKT-PV--W------P--R--AMAI-K-SQHM---V--C---E--SDSD---PP--LIRVEGNLR--YL---NT-RHS---PY-P---G-DCTTIHYNYMC-SSC--GM-----LTIIT----SG--LGR-------CACP-R-R-T--ENLR--GE-H-EL-P--TKR-LPN-T----QP--K--D-E--T--DQTS--KEN-', '----Q--PSVE---SQ-T-S-LWK-L----VLSP-P--A--D-MLSPD---Q---E---PDE--RMP--APPV-P-P-APT-AA-AP---WP--S-VPSQKT-QGS---RL---HSGTA---TC--S--LNKMF-Q--K--PVQLWV--T-P---R-RA-A--K-S-H-------C--H-RC--SDG---PQHLIRV---L-VE--D--N-F---VVV----P-VG-DC----YN-MCN-SC-G----R-IL--ITLEDS-G---GRNSF-VR---C-G----TEE----K--E--HE---G--K---PN--SSS---K---LDGEYF-L--Q-S-Q---C']\n",
            "Con el primer ensamblaje aleatoreo se obtuvo un costo de: -185\n",
            "Mejor ensamblado: ['-T-YKL--V-AG-V-KS----QLIQ-HFVD-YDPT-EDS-----V-DGETC-L--L-----EEY---R------GEGF---F-IN-TK--E-I-H-R-QIK-VKDSE-VPMV---N---LP--TV-T---QDLAR-YGIP--ETSAKT----DD--Y----E---H--KM-K--K-K-K---T-CV--', 'M-E--L----A-DV-KSALT--L-QNH-VDE-DP-I--SYRKQVVIDGE--L--I-D--G--EYS-----Y-----GF-CVFAIN---SFE-I---REQ--R-----DVP----G-----PSRTV------D-A---GIP-IETS----Q-----FY----------E--SKD-K-K-K----KC---', '-----L----A-G-GKS-------Q-HF-DEYDP-IEDSY---V--DGETC--D-L--A-Q-------DQY------FLCVFA--NT--F-----YRE-IK--K--E---MV-VGN-C---SRT----Q---LA---GI--I--S-KT-QGVDD--Y---RE-RK-KEKMSK-GKKKKK-S------M', '-EEPQ--P--E--L---T-SD--KL---NNVLS--P--A-D----S---IE---T--P-P-E---MP-A-P-V-----AP-P---A-A-S-PL-SSV---K--QGSY--RL-FLHS-T-KS-T-T------KMFC-LAKTC-VQL---STP-PG-RVRAM-IY-Q-QH-TEV--R-P-HE---DSDG---P-HLI-VE-N---EYL-D-NT---SVVVPY-PPE---DCTT-HYNYMC-S-C-G---R---LTI-T-----GNLL-R---EV-V--C-GRD-R-EE-N---KG----EL-P-S-KRALP--TSSSPQ--KK-LD-E--T-QDQTSFQK-NC', 'M-----D--V-----Q--FS-L--LL-----LSP--S---D-------DIE-W-TE--GPDE-P--PE---P-APA---PT-AA--P--S-PLSS-VPSQKTY-GS--F--G-LHSGT-KSV-CT---AL--MFCQLA-T--V-L-V---P-PGT----M---K-SQHM-EVV--C-----C--S-G---PQH-I----N--V-Y-----T-RH---VPYE---VG-D--T---NYMC--SC---M--R-IL----L--S--N-L------VR--A-P--D---EEE--RK-GEPHH-L-PGS-KRALPNNTS----PKKKPL-GE--TL--Q--FQK---']\n",
            "Mejor costo: -181\n"
          ]
        }
      ]
    }
  ]
}
